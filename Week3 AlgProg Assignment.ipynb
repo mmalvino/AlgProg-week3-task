{
 "cells": [
  {
   "cell_type": "code",
   "execution_count": 6,
   "metadata": {},
   "outputs": [
    {
     "name": "stdout",
     "output_type": "stream",
     "text": [
      "The area of the circle is: 113.09733552923255\n"
     ]
    }
   ],
   "source": [
    "#1\n",
    "import math\n",
    "r = eval(input(\"Enter the radius of the circle:\"))\n",
    "formula = (math.pi)*(r**2)\n",
    "print(\"The area of the circle is:\",formula)"
   ]
  },
  {
   "cell_type": "code",
   "execution_count": 3,
   "metadata": {},
   "outputs": [
    {
     "name": "stdout",
     "output_type": "stream",
     "text": [
      "Doe   John\n"
     ]
    }
   ],
   "source": [
    "#2\n",
    "a = input(\"Enter your first name:\")\n",
    "b = input(\"Enter your last name:\")\n",
    "print(b,\" \",a)"
   ]
  },
  {
   "cell_type": "code",
   "execution_count": 5,
   "metadata": {},
   "outputs": [
    {
     "name": "stdout",
     "output_type": "stream",
     "text": [
      "Red Black\n"
     ]
    }
   ],
   "source": [
    "#3\n",
    "Color_list = [\"Red\",\"Green\",\"White\",\"Black\"]\n",
    "print(Color_list[0], Color_list[-1])\n"
   ]
  },
  {
   "cell_type": "code",
   "execution_count": 9,
   "metadata": {},
   "outputs": [
    {
     "name": "stdout",
     "output_type": "stream",
     "text": [
      "The value is: 14\n"
     ]
    }
   ],
   "source": [
    "#4\n",
    "n = int(input(\"Enter an integer:\"))\n",
    "formula = (n) + (n*n) + (n*n*n)\n",
    "print(\"The value is:\", formula)"
   ]
  },
  {
   "cell_type": "code",
   "execution_count": 10,
   "metadata": {},
   "outputs": [
    {
     "name": "stdout",
     "output_type": "stream",
     "text": [
      "904.7786842338603\n"
     ]
    }
   ],
   "source": [
    "#5\n",
    "import math\n",
    "r = 6\n",
    "v = (4/3)*(math.pi)*(r**3)\n",
    "print(v)"
   ]
  },
  {
   "cell_type": "code",
   "execution_count": 13,
   "metadata": {},
   "outputs": [
    {
     "name": "stdout",
     "output_type": "stream",
     "text": [
      "6\n"
     ]
    }
   ],
   "source": [
    "#6\n",
    "a = eval(input(\"Enter a number:\"))\n",
    "if a>17:\n",
    "    b = (a-17)*2\n",
    "    print(b)\n",
    "else:\n",
    "    print(\"invalid\")\n"
   ]
  },
  {
   "cell_type": "code",
   "execution_count": 15,
   "metadata": {},
   "outputs": [
    {
     "name": "stdout",
     "output_type": "stream",
     "text": [
      "18\n"
     ]
    }
   ],
   "source": [
    "#7\n",
    "a = eval(input(\"Enter first number:\"))\n",
    "b = eval(input(\"Enter second number:\"))\n",
    "c = eval(input(\"Enter third number:\"))\n",
    "if a==b==c:\n",
    "    print((a+b+c)*3)\n",
    "else:\n",
    "    print((a+b+c))"
   ]
  },
  {
   "cell_type": "code",
   "execution_count": 17,
   "metadata": {},
   "outputs": [
    {
     "name": "stdout",
     "output_type": "stream",
     "text": [
      "5 is an odd number\n"
     ]
    }
   ],
   "source": [
    "#8\n",
    "a = eval(input(\"Enter a value:\"))\n",
    "if a%2 == 0:\n",
    "    print(a,\"is an even number\")\n",
    "else:\n",
    "    print(a,\"is an odd number\")"
   ]
  },
  {
   "cell_type": "code",
   "execution_count": 20,
   "metadata": {},
   "outputs": [
    {
     "name": "stdout",
     "output_type": "stream",
     "text": [
      "The letter is a vowel\n"
     ]
    }
   ],
   "source": [
    "#9\n",
    "a = str(input(\"Enter a letter:\"))\n",
    "list = [\"a\",\"e\",\"i\",\"u\",\"o\",\"A\",\"E\",\"I\",\"U\",\"O\"]\n",
    "if a in list:\n",
    "    print(\"The letter is a vowel\")\n",
    "else:\n",
    "    print(\"The letter is not a vowel\")"
   ]
  },
  {
   "cell_type": "code",
   "execution_count": 35,
   "metadata": {},
   "outputs": [
    {
     "name": "stdout",
     "output_type": "stream",
     "text": [
      "@ is not in the list\n"
     ]
    }
   ],
   "source": [
    "#10\n",
    "a = input(\"Enter a value:\")\n",
    "list = [1,113,\"hello\",\"n\",645/7,\"tree\"]\n",
    "if a in list:\n",
    "    print(a, \"is in the list\")\n",
    "else:\n",
    "    print(a, \"is not in the list\")\n"
   ]
  },
  {
   "cell_type": "code",
   "execution_count": 9,
   "metadata": {},
   "outputs": [
    {
     "name": "stdout",
     "output_type": "stream",
     "text": [
      "{0: 1, 1: 3, 2: 1, 3: 1, 7: 2, 23: 1}\n"
     ]
    }
   ],
   "source": [
    "#11\n",
    "numbers = [0, 1, 1, 1, 2, 3, 7, 7, 23]\n",
    "histogram = {}\n",
    "for i in numbers:\n",
    "    histogram[i] = histogram.get(i, 0) + 1\n",
    "print(histogram)"
   ]
  },
  {
   "cell_type": "code",
   "execution_count": 21,
   "metadata": {},
   "outputs": [
    {
     "name": "stdout",
     "output_type": "stream",
     "text": [
      "[386, 462, 418, 344, 236, 566, 978, 328, 162, 758, 918, 412, 566, 826, 248, 866, 950, 626, 104, 58, 512, 24, 892, 894, 742, 958]\n"
     ]
    }
   ],
   "source": [
    "#12\n",
    "numbers = [ 386, 462, 47, 418, 907, 344, 236, 375, 823, 566, 597, 978, 328, 615, 953, 345,\n",
    "399, 162, 758, 219, 918, 237, 412, 566, 826, 248, 866, 950, 626, 949, 687, 217,\n",
    "815, 67, 104, 58, 512, 24, 892, 894, 767, 553, 81, 379, 843, 831, 445, 742, 717,\n",
    "958,743, 527 ]\n",
    "evenList = []\n",
    "for i in numbers:\n",
    "    if i % 2 == 0 :\n",
    "        evenList.append(i)\n",
    "print(even_list)"
   ]
  },
  {
   "cell_type": "code",
   "execution_count": 38,
   "metadata": {},
   "outputs": [
    {
     "name": "stdout",
     "output_type": "stream",
     "text": [
      "12.5 cm^2 is the area of triangle\n"
     ]
    }
   ],
   "source": [
    "#13\n",
    "base= eval(input(\"Enter the base:\"))\n",
    "height= eval(input(\"Enter the height: \"))\n",
    "formula= (0.5*base*height)\n",
    "print(formula, \"cm^2 is the area of triangle\")"
   ]
  },
  {
   "cell_type": "code",
   "execution_count": 20,
   "metadata": {},
   "outputs": [
    {
     "name": "stdout",
     "output_type": "stream",
     "text": [
      "the LCM is 84\n"
     ]
    }
   ],
   "source": [
    "#14\n",
    "import math\n",
    "num1 = eval(input(\"please enter the first number:\"))\n",
    "num2 = eval(input(\"please enter the second number:\"))\n",
    "print(\"the LCM is\", math.lcm(num1,num2))"
   ]
  },
  {
   "cell_type": "code",
   "execution_count": 40,
   "metadata": {},
   "outputs": [
    {
     "name": "stdout",
     "output_type": "stream",
     "text": [
      "Sum is 0\n"
     ]
    }
   ],
   "source": [
    "#15\n",
    "a = eval(input(\"Enter an integer:\"))\n",
    "b = eval(input(\"Enter an integer:\"))\n",
    "c = eval(input(\"Enter an integer:\"))\n",
    "sum = a + b + c\n",
    "if a==b or b==c or c==a:\n",
    "    print(\"Sum is 0\")\n",
    "else:\n",
    "    print(\"Sum is\",sum)"
   ]
  },
  {
   "cell_type": "code",
   "execution_count": 44,
   "metadata": {},
   "outputs": [
    {
     "name": "stdout",
     "output_type": "stream",
     "text": [
      "( 4 + 3 ) ^ 2) = 49\n"
     ]
    }
   ],
   "source": [
    "#16\n",
    "x= eval(input(\"Enter value for x:\"))\n",
    "y= eval(input(\"Enter value for y:\"))\n",
    "formula= (x+y)*(x+y)\n",
    "print(\"(\",x,\"+\",y,\")\",\"^ 2) =\",formula)"
   ]
  },
  {
   "cell_type": "code",
   "execution_count": 56,
   "metadata": {},
   "outputs": [
    {
     "name": "stdout",
     "output_type": "stream",
     "text": [
      "12722.792627665729\n"
     ]
    }
   ],
   "source": [
    "#17\n",
    "principleamount = eval(input(\"Enter the principal amount:\"))\n",
    "rate = eval(input(\"Enter the rate of interest:\"))\n",
    "time = eval(input(\"Enter the number of years to invest:\"))\n",
    "finalamount = principleamount*((1+(rate/100))**(1*time))\n",
    "print(finalamount)\n"
   ]
  },
  {
   "cell_type": "code",
   "execution_count": 58,
   "metadata": {},
   "outputs": [
    {
     "name": "stdout",
     "output_type": "stream",
     "text": [
      "The distance between points (x1,y1) and (x2,y2) is 5.385164807134504\n"
     ]
    }
   ],
   "source": [
    "#18\n",
    "import math\n",
    "x1= eval(input(\"Enter value for x1:\"))\n",
    "y1= eval(input(\"Enter value for y1:\"))\n",
    "x2= eval(input(\"Enter value for x2:\"))\n",
    "y2= eval(input(\"Enter value for y2:\"))\n",
    "formula = math.sqrt(((x2-x1)**2) + ((y2-y1)**2))\n",
    "print(\"The distance between points (x1,y1) and (x2,y2) is\",formula)"
   ]
  },
  {
   "cell_type": "code",
   "execution_count": 1,
   "metadata": {},
   "outputs": [
    {
     "name": "stdout",
     "output_type": "stream",
     "text": [
      "sum of the first 4 positive integers: 10.0\n"
     ]
    }
   ],
   "source": [
    "#19\n",
    "n = int(input(\"Enter a positive integer:\"))\n",
    "formula = (n*(n+1))/2\n",
    "print(\"sum of the first\", n ,\"positive integers:\",formula)"
   ]
  },
  {
   "cell_type": "code",
   "execution_count": 3,
   "metadata": {},
   "outputs": [
    {
     "name": "stdout",
     "output_type": "stream",
     "text": [
      "Enter your height.\n",
      "Height in cm is: 185.42\n"
     ]
    }
   ],
   "source": [
    "#20\n",
    "print(\"Enter your height.\")\n",
    "f = eval(input(\"feet:\"))\n",
    "i = eval(input(\"inches:\"))\n",
    "htIncm = f*12*2.54 + i*2.54\n",
    "print(\"Height in cm is:\",htIncm)"
   ]
  },
  {
   "cell_type": "code",
   "execution_count": 6,
   "metadata": {},
   "outputs": [
    {
     "name": "stdout",
     "output_type": "stream",
     "text": [
      "The hypotenuse of this right angled triangle is 10.63014581273465\n"
     ]
    }
   ],
   "source": [
    "#21\n",
    "import math\n",
    "a = eval(input(\"Enter length of side a:\"))\n",
    "b = eval(input(\"Enter length of side b:\"))\n",
    "hyp = math.sqrt(a**2 + b**2)\n",
    "print(\"The hypotenuse of this right angled triangle is\",hyp)"
   ]
  },
  {
   "cell_type": "code",
   "execution_count": 9,
   "metadata": {},
   "outputs": [
    {
     "name": "stdout",
     "output_type": "stream",
     "text": [
      "body mass index is 19.576333089846603\n"
     ]
    }
   ],
   "source": [
    "#22\n",
    "w = eval(input(\"Enter your weight(in kg):\"))\n",
    "h = eval(input(\"Enter your height(in cm):\"))\n",
    "bmi = w/((h/100)**2)\n",
    "print(\"body mass index is\",bmi)"
   ]
  },
  {
   "cell_type": "code",
   "execution_count": 13,
   "metadata": {},
   "outputs": [
    {
     "name": "stdout",
     "output_type": "stream",
     "text": [
      "The midpoint of the line is( 7.0 ),( 3.0 )\n"
     ]
    }
   ],
   "source": [
    "#23\n",
    "x1 = eval(input(\"Enter value for x1:\"))\n",
    "y1 = eval(input(\"Enter value for y1:\"))\n",
    "x2 = eval(input(\"Enter the value for x2:\"))\n",
    "y2 = eval(input(\"Enter the value for y2:\"))\n",
    "mdPointX = (x1+x2)/2  \n",
    "mdPointY = (y1+y2)/2\n",
    "print(\"The midpoint of the line is(\",mdPointX,\"),(\",mdPointY,\")\")"
   ]
  },
  {
   "cell_type": "code",
   "execution_count": 16,
   "metadata": {},
   "outputs": [
    {
     "name": "stdout",
     "output_type": "stream",
     "text": [
      "[2002, 2009, 2016, 2023, 2037, 2044, 2051, 2058, 2072, 2079, 2086, 2093, 2107, 2114, 2121, 2128, 2142, 2149, 2156, 2163, 2177, 2184, 2191, 2198, 2212, 2219, 2226, 2233, 2247, 2254, 2261, 2268, 2282, 2289, 2296, 2303, 2317, 2324, 2331, 2338, 2352, 2359, 2366, 2373, 2387, 2394, 2401, 2408, 2422, 2429, 2436, 2443, 2457, 2464, 2471, 2478, 2492, 2499, 2506, 2513, 2527, 2534, 2541, 2548, 2562, 2569, 2576, 2583, 2597, 2604, 2611, 2618, 2632, 2639, 2646, 2653, 2667, 2674, 2681, 2688, 2702, 2709, 2716, 2723, 2737, 2744, 2751, 2758, 2772, 2779, 2786, 2793, 2807, 2814, 2821, 2828, 2842, 2849, 2856, 2863, 2877, 2884, 2891, 2898, 2912, 2919, 2926, 2933, 2947, 2954, 2961, 2968, 2982, 2989, 2996, 3003, 3017, 3024, 3031, 3038, 3052, 3059, 3066, 3073, 3087, 3094, 3101, 3108, 3122, 3129, 3136, 3143, 3157, 3164, 3171, 3178, 3192, 3199]\n"
     ]
    }
   ],
   "source": [
    "#24\n",
    "e = []\n",
    "for i in range(2000,3201):\n",
    "    if i%7 == 0 and i%5 !=0:\n",
    "        e.append(i)\n",
    "print(e)"
   ]
  }
 ],
 "metadata": {
  "kernelspec": {
   "display_name": "Python 3.10.7 64-bit",
   "language": "python",
   "name": "python3"
  },
  "language_info": {
   "codemirror_mode": {
    "name": "ipython",
    "version": 3
   },
   "file_extension": ".py",
   "mimetype": "text/x-python",
   "name": "python",
   "nbconvert_exporter": "python",
   "pygments_lexer": "ipython3",
   "version": "3.10.7"
  },
  "orig_nbformat": 4,
  "vscode": {
   "interpreter": {
    "hash": "aee8b7b246df8f9039afb4144a1f6fd8d2ca17a180786b69acc140d282b71a49"
   }
  }
 },
 "nbformat": 4,
 "nbformat_minor": 2
}
